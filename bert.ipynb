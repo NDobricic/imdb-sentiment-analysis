{
 "cells": [
  {
   "cell_type": "code",
   "execution_count": 1,
   "id": "fa687b2d-76f4-4017-88bb-d22889e2e7e8",
   "metadata": {},
   "outputs": [],
   "source": [
    "import os\n",
    "import numpy as np\n",
    "from sklearn.metrics import mean_squared_error, r2_score\n",
    "import torch\n",
    "import torch.nn as nn\n",
    "import torch.optim as optim\n",
    "from torch.nn.utils.rnn import pad_sequence, pack_padded_sequence, pad_packed_sequence\n",
    "from torch.utils.data import Dataset, DataLoader, Subset\n",
    "from torchtext.data.utils import get_tokenizer\n",
    "from torchtext.vocab import build_vocab_from_iterator\n",
    "import matplotlib.pyplot as plt\n",
    "from transformers import DistilBertModel, DistilBertTokenizer\n",
    "from tqdm import tqdm"
   ]
  },
  {
   "cell_type": "code",
   "execution_count": 2,
   "id": "7ee90d02-82db-4a91-9a98-1e1b93ddec7c",
   "metadata": {},
   "outputs": [],
   "source": [
    "class MovieReviewDataset(Dataset):\n",
    "    def __init__(self, data, labels, tokenizer):\n",
    "        self.data = data\n",
    "        self.labels = labels\n",
    "        self.tokenizer = tokenizer\n",
    "\n",
    "    def __len__(self):\n",
    "        return len(self.data)\n",
    "\n",
    "    def __getitem__(self, index):\n",
    "        text = self.data[index]\n",
    "        label = self.labels[index]\n",
    "        encoding = self.tokenizer(text, padding='max_length', truncation=True, max_length=512, return_tensors='pt')\n",
    "        input_ids = encoding['input_ids'].squeeze()\n",
    "        attention_mask = encoding['attention_mask'].squeeze()\n",
    "        return input_ids, attention_mask, label"
   ]
  },
  {
   "cell_type": "code",
   "execution_count": 3,
   "id": "f322a398-ca23-4fff-accc-31fb4049a143",
   "metadata": {},
   "outputs": [],
   "source": [
    "class DistilBertModelForRegression(nn.Module):\n",
    "    def __init__(self, output_dim, dropout_rate=0.2):\n",
    "        super(DistilBertModelForRegression, self).__init__()\n",
    "        self.distilbert = DistilBertModel.from_pretrained('distilbert-base-uncased')\n",
    "        self.dropout = nn.Dropout(dropout_rate)\n",
    "        self.fc = nn.Linear(self.distilbert.config.hidden_size, output_dim)\n",
    "\n",
    "        # Freeze the DistilBERT layers\n",
    "        for param in self.distilbert.parameters():\n",
    "            param.requires_grad = False\n",
    "\n",
    "    def forward(self, input_ids, attention_mask):\n",
    "        outputs = self.distilbert(input_ids=input_ids, attention_mask=attention_mask)\n",
    "        last_hidden_state = outputs.last_hidden_state\n",
    "        pooled_output = last_hidden_state[:, 0]\n",
    "        dropped_output = self.dropout(pooled_output)\n",
    "        output = self.fc(dropped_output)\n",
    "        return output"
   ]
  },
  {
   "cell_type": "code",
   "execution_count": 4,
   "id": "21b88748-25a1-42b7-a7ac-f0bab3797bc2",
   "metadata": {},
   "outputs": [
    {
     "name": "stdout",
     "output_type": "stream",
     "text": [
      "Device:  cuda\n"
     ]
    }
   ],
   "source": [
    "# Set device\n",
    "device = torch.device('cuda' if torch.cuda.is_available() else 'cpu')\n",
    "print(\"Device: \", device)\n",
    "\n",
    "# Set hyperparameters\n",
    "batch_size = 16\n",
    "learning_rate = 1e-5"
   ]
  },
  {
   "cell_type": "code",
   "execution_count": 5,
   "id": "fb2d9082-685c-4197-af7c-d398951d79e0",
   "metadata": {},
   "outputs": [],
   "source": [
    "# Load and preprocess the dataset\n",
    "def load_dataset(root_dir):\n",
    "    data = []\n",
    "    labels = []\n",
    "    for label in ['pos', 'neg']:\n",
    "        label_dir = os.path.join(root_dir, label)\n",
    "        for filename in os.listdir(label_dir):\n",
    "            file_path = os.path.join(label_dir, filename)\n",
    "            with open(file_path, 'r', encoding='utf-8') as f:\n",
    "                text = f.read()\n",
    "                data.append(text)\n",
    "                rating = int(filename.split('_')[-1].split('.')[0])\n",
    "                normalized_rating = (rating - 1) / 9.0\n",
    "                labels.append(normalized_rating)\n",
    "    return data, labels\n",
    "\n",
    "train_dir = 'aclImdb/train'\n",
    "test_dir = 'aclImdb/test'\n",
    "tokenizer = get_tokenizer('basic_english')\n",
    "\n",
    "train_data, train_labels = load_dataset(train_dir)\n",
    "test_data, test_labels = load_dataset(test_dir)"
   ]
  },
  {
   "cell_type": "code",
   "execution_count": 6,
   "id": "41bf774c-d3a2-45a3-8922-e953fa36e7c7",
   "metadata": {},
   "outputs": [],
   "source": [
    "def collate_fn(batch):\n",
    "    input_ids, attention_masks, labels = zip(*batch)\n",
    "    input_ids = torch.stack(input_ids)\n",
    "    attention_masks = torch.stack(attention_masks)\n",
    "    labels = torch.tensor(labels)\n",
    "    return input_ids, attention_masks, labels\n",
    "\n",
    "tokenizer = DistilBertTokenizer.from_pretrained('distilbert-base-uncased')\n",
    "\n",
    "train_dataset = MovieReviewDataset(train_data, train_labels, tokenizer)\n",
    "test_dataset = MovieReviewDataset(test_data, test_labels, tokenizer)\n",
    "\n",
    "train_loader = DataLoader(train_dataset, batch_size=batch_size, shuffle=True, collate_fn=collate_fn)\n",
    "test_loader = DataLoader(test_dataset, batch_size=batch_size, collate_fn=collate_fn)"
   ]
  },
  {
   "cell_type": "code",
   "execution_count": null,
   "id": "bdae78e8-1451-4359-a1b7-70362050e4a2",
   "metadata": {},
   "outputs": [
    {
     "name": "stderr",
     "output_type": "stream",
     "text": [
      "Some weights of the model checkpoint at distilbert-base-uncased were not used when initializing DistilBertModel: ['vocab_transform.weight', 'vocab_layer_norm.bias', 'vocab_projector.bias', 'vocab_transform.bias', 'vocab_layer_norm.weight', 'vocab_projector.weight']\n",
      "- This IS expected if you are initializing DistilBertModel from the checkpoint of a model trained on another task or with another architecture (e.g. initializing a BertForSequenceClassification model from a BertForPreTraining model).\n",
      "- This IS NOT expected if you are initializing DistilBertModel from the checkpoint of a model that you expect to be exactly identical (initializing a BertForSequenceClassification model from a BertForSequenceClassification model).\n"
     ]
    },
    {
     "name": "stdout",
     "output_type": "stream",
     "text": [
      "Creating necessary directories...\n",
      "Loaded checkpoint from epoch 20\n",
      "Starting the training...\n",
      "Epoch [21], Train Loss: 0.0265918329, Test Loss: 0.0313461476\n",
      "Epoch [22], Train Loss: 0.0177048953, Test Loss: 0.0345309102\n",
      "Epoch [23], Train Loss: 0.0140476970, Test Loss: 0.0348834710\n",
      "Epoch [24], Train Loss: 0.0115702168, Test Loss: 0.0313130077\n",
      "Epoch [25], Train Loss: 0.0100619241, Test Loss: 0.0316993784\n",
      "Epoch [26], Train Loss: 0.0086063671, Test Loss: 0.0323832487\n",
      "Epoch [27], Train Loss: 0.0077188767, Test Loss: 0.0307865831\n",
      "Epoch [28], Train Loss: 0.0065898047, Test Loss: 0.0316293176\n",
      "Epoch [29], Train Loss: 0.0058845946, Test Loss: 0.0300729335\n",
      "Epoch [30], Train Loss: 0.0054141429, Test Loss: 0.0303616269\n",
      "Epoch [31], Train Loss: 0.0047057829, Test Loss: 0.0318327033\n",
      "Epoch [32], Train Loss: 0.0042862902, Test Loss: 0.0323805016\n",
      "Epoch [33], Train Loss: 0.0039743681, Test Loss: 0.0309915983\n",
      "Epoch [34], Train Loss: 0.0036568473, Test Loss: 0.0297402085\n",
      "Epoch [35], Train Loss: 0.0034129132, Test Loss: 0.0300311095\n",
      "Epoch [36], Train Loss: 0.0031836893, Test Loss: 0.0296807305\n",
      "Epoch [37], Train Loss: 0.0028768477, Test Loss: 0.0303761626\n",
      "Epoch [38], Train Loss: 0.0028157058, Test Loss: 0.0297213992\n",
      "Epoch [39], Train Loss: 0.0026290176, Test Loss: 0.0296476071\n",
      "Epoch [40], Train Loss: 0.0024638263, Test Loss: 0.0294888410\n",
      "Epoch [41], Train Loss: 0.0024394397, Test Loss: 0.0314292066\n",
      "Epoch [42], Train Loss: 0.0022700813, Test Loss: 0.0296399679\n",
      "Epoch [43], Train Loss: 0.0021675788, Test Loss: 0.0299770729\n",
      "Epoch [44], Train Loss: 0.0020195172, Test Loss: 0.0289107652\n",
      "Epoch [45], Train Loss: 0.0019535943, Test Loss: 0.0282718671\n",
      "Epoch [46], Train Loss: 0.0018804757, Test Loss: 0.0290215534\n",
      "Epoch [47], Train Loss: 0.0017745879, Test Loss: 0.0294045146\n",
      "Epoch [48], Train Loss: 0.0017283320, Test Loss: 0.0282266301\n"
     ]
    }
   ],
   "source": [
    "# Initialize the model\n",
    "model = DistilBertModelForRegression(1).to(device)\n",
    "\n",
    "# Unfreeze the DistilBERT layers\n",
    "for param in model.distilbert.parameters():\n",
    "    param.requires_grad = True\n",
    "\n",
    "# Define the loss function and optimizer\n",
    "criterion = nn.MSELoss()\n",
    "optimizer = optim.AdamW(model.parameters(), lr=learning_rate)\n",
    "\n",
    "# Set up directories\n",
    "print(\"Creating necessary directories...\")\n",
    "model_name = 'bert1'\n",
    "plot_dir = os.path.join(model_name, 'plots')\n",
    "checkpoint_dir = os.path.join(model_name, 'checkpoints')\n",
    "checkpoint_path = os.path.join(checkpoint_dir, 'latest.pt')\n",
    "info_dir = os.path.join(model_name, 'info')\n",
    "os.makedirs(plot_dir, exist_ok=True)\n",
    "os.makedirs(checkpoint_dir, exist_ok=True)\n",
    "os.makedirs(info_dir, exist_ok=True)\n",
    "loss_plot_path = os.path.join(plot_dir, 'training_validation_loss.png')\n",
    "checkpoint_increment = 20\n",
    "\n",
    "# Load saved state dictionaries if they exist\n",
    "if os.path.exists(checkpoint_path):\n",
    "    checkpoint = torch.load(checkpoint_path)\n",
    "    model.load_state_dict(checkpoint['model_state_dict'])\n",
    "    optimizer.load_state_dict(checkpoint['optimizer_state_dict'])\n",
    "    for param_group in optimizer.param_groups:\n",
    "        param_group['lr'] = learning_rate\n",
    "    start_epoch = checkpoint['epoch'] + 1\n",
    "    train_losses = checkpoint['train_losses']\n",
    "    test_losses = checkpoint['test_losses']\n",
    "    print(f\"Loaded checkpoint from epoch {start_epoch}\")\n",
    "else:\n",
    "    start_epoch = 0\n",
    "    file_path = os.path.join(info_dir, 'architecture.txt')\n",
    "    model_info = str(model)\n",
    "    with open(file_path, 'w') as file:\n",
    "        file.write(model_info)\n",
    "    print(f\"Model architecture saved to {file_path}\")\n",
    "    train_losses = []\n",
    "    test_losses = []\n",
    "    \n",
    "print('Starting the training...')\n",
    "try:\n",
    "    epoch = start_epoch\n",
    "    while True:\n",
    "        model.train()\n",
    "        train_loss = 0.0\n",
    "\n",
    "        for input_ids, attention_masks, targets in train_loader:\n",
    "            input_ids, attention_masks, targets = input_ids.to(device), attention_masks.to(device), targets.to(device).float()\n",
    "\n",
    "            optimizer.zero_grad()\n",
    "            outputs = model(input_ids, attention_masks).squeeze()\n",
    "            loss = criterion(outputs, targets)\n",
    "            loss.backward()\n",
    "            optimizer.step()\n",
    "\n",
    "            train_loss += loss.item() * input_ids.size(0)\n",
    "\n",
    "        train_loss /= len(train_dataset)\n",
    "        train_losses.append(train_loss)\n",
    "\n",
    "        model.eval()\n",
    "        test_loss = 0.0\n",
    "\n",
    "        with torch.no_grad():\n",
    "            for input_ids, attention_masks, targets in test_loader:\n",
    "                input_ids, attention_masks, targets = input_ids.to(device), attention_masks.to(device), targets.to(device).float()\n",
    "                outputs = model(input_ids, attention_masks).squeeze()\n",
    "                loss = criterion(outputs, targets)\n",
    "                test_loss += loss.item() * input_ids.size(0)\n",
    "\n",
    "\n",
    "        test_loss /= len(test_dataset)\n",
    "        test_losses.append(test_loss)\n",
    "\n",
    "        print(f\"Epoch [{epoch+1}], Train Loss: {train_loss:.10f}, Test Loss: {test_loss:.10f}\")\n",
    "\n",
    "        # Save checkpoint\n",
    "        torch.save({\n",
    "            'epoch': epoch,\n",
    "            'model_state_dict': model.state_dict(),\n",
    "            'optimizer_state_dict': optimizer.state_dict(),\n",
    "            'train_losses': train_losses,\n",
    "            'test_losses': test_losses\n",
    "        }, checkpoint_path)\n",
    "        \n",
    "        if (epoch + 1) % checkpoint_increment == 0:\n",
    "            torch.save({\n",
    "                'epoch': epoch,\n",
    "                'model_state_dict': model.state_dict(),\n",
    "                'optimizer_state_dict': optimizer.state_dict(),\n",
    "                'train_losses': train_losses,\n",
    "                'test_losses': test_losses\n",
    "            }, os.path.join(checkpoint_dir, f'checkpoint{epoch + 1}.pt'))\n",
    "\n",
    "        # Plotting and saving the figure\n",
    "        plt.figure(figsize=(10, 5))\n",
    "        plt.plot(range(1, len(train_losses) + 1), train_losses, label='Training Loss')\n",
    "        plt.plot(range(1, len(test_losses) + 1), test_losses, label='Validation Loss')\n",
    "        plt.xlabel('Epoch')\n",
    "        plt.ylabel('Loss')\n",
    "        plt.title('Training and Validation Loss')\n",
    "        plt.legend()\n",
    "        plt.grid(True)\n",
    "        plt.tight_layout()\n",
    "        plt.savefig(loss_plot_path)\n",
    "        plt.close()\n",
    "\n",
    "        epoch += 1\n",
    "\n",
    "except KeyboardInterrupt:\n",
    "    print('Training has been manually interrupted.')"
   ]
  },
  {
   "cell_type": "code",
   "execution_count": 7,
   "id": "bfb9da12-5a65-49d1-88dc-aefa11f4f276",
   "metadata": {},
   "outputs": [
    {
     "name": "stderr",
     "output_type": "stream",
     "text": [
      "Some weights of the model checkpoint at distilbert-base-uncased were not used when initializing DistilBertModel: ['vocab_layer_norm.weight', 'vocab_layer_norm.bias', 'vocab_transform.bias', 'vocab_transform.weight', 'vocab_projector.weight', 'vocab_projector.bias']\n",
      "- This IS expected if you are initializing DistilBertModel from the checkpoint of a model trained on another task or with another architecture (e.g. initializing a BertForSequenceClassification model from a BertForPreTraining model).\n",
      "- This IS NOT expected if you are initializing DistilBertModel from the checkpoint of a model that you expect to be exactly identical (initializing a BertForSequenceClassification model from a BertForSequenceClassification model).\n"
     ]
    },
    {
     "data": {
      "text/plain": [
       "DistilBertModelForRegression(\n",
       "  (distilbert): DistilBertModel(\n",
       "    (embeddings): Embeddings(\n",
       "      (word_embeddings): Embedding(30522, 768, padding_idx=0)\n",
       "      (position_embeddings): Embedding(512, 768)\n",
       "      (LayerNorm): LayerNorm((768,), eps=1e-12, elementwise_affine=True)\n",
       "      (dropout): Dropout(p=0.1, inplace=False)\n",
       "    )\n",
       "    (transformer): Transformer(\n",
       "      (layer): ModuleList(\n",
       "        (0-5): 6 x TransformerBlock(\n",
       "          (attention): MultiHeadSelfAttention(\n",
       "            (dropout): Dropout(p=0.1, inplace=False)\n",
       "            (q_lin): Linear(in_features=768, out_features=768, bias=True)\n",
       "            (k_lin): Linear(in_features=768, out_features=768, bias=True)\n",
       "            (v_lin): Linear(in_features=768, out_features=768, bias=True)\n",
       "            (out_lin): Linear(in_features=768, out_features=768, bias=True)\n",
       "          )\n",
       "          (sa_layer_norm): LayerNorm((768,), eps=1e-12, elementwise_affine=True)\n",
       "          (ffn): FFN(\n",
       "            (dropout): Dropout(p=0.1, inplace=False)\n",
       "            (lin1): Linear(in_features=768, out_features=3072, bias=True)\n",
       "            (lin2): Linear(in_features=3072, out_features=768, bias=True)\n",
       "            (activation): GELUActivation()\n",
       "          )\n",
       "          (output_layer_norm): LayerNorm((768,), eps=1e-12, elementwise_affine=True)\n",
       "        )\n",
       "      )\n",
       "    )\n",
       "  )\n",
       "  (dropout): Dropout(p=0.2, inplace=False)\n",
       "  (fc): Linear(in_features=768, out_features=1, bias=True)\n",
       ")"
      ]
     },
     "execution_count": 7,
     "metadata": {},
     "output_type": "execute_result"
    }
   ],
   "source": [
    "model = DistilBertModelForRegression(output_dim=1).to(device)\n",
    "\n",
    "checkpoint_path = 'bert1/checkpoints/checkpoint20.pt'\n",
    "checkpoint = torch.load(checkpoint_path)\n",
    "model.load_state_dict(checkpoint['model_state_dict'])\n",
    "model.eval()"
   ]
  },
  {
   "cell_type": "code",
   "execution_count": 8,
   "id": "9a9a6afc-fa05-443e-bf0f-7d7c8a6a1fc9",
   "metadata": {},
   "outputs": [
    {
     "name": "stdout",
     "output_type": "stream",
     "text": [
      "Review content:\n",
      "Road House is exactly what it needs to be. A self-serious yet simultaneously very silly modern day riff on the Western that's packed with testosterone, crunchy action and jokes in the most unexpected places. It feels like a streaming movie in some distracting ways but it still remains one of the better ones.\n",
      "\n",
      "Jake Gyllenhaal brings a natural intensity to Dalton as well as an impressive physical commitment. It's the possibility of his rage that he always keeps at bay that makes him so watchable in this role as he beats up his enemies and then makes sure they're okay before actually driving them to the hospital.\n",
      "\n",
      "From the moment he's introduced, Conor McGregor is definitely something. It's the kind of performance that's never boring and never good. Every single line is delivered in hilariously awful fashion and yet he's one of the best parts of the film as he takes a very generically unhinged villain and makes it his own.\n",
      "\n",
      "Doug Liman's direction certainly has a lot of energy as it alternates between fights in the first person, drone shots and simply getting as close as possible to the action. The fights themselves have a real weight to them with the heaviest blows really being felt however, some of the CG flourishes used to stitch them together distract rather than enhance.\n",
      "Predicted rating:\n",
      "0.8133183717727661\n"
     ]
    }
   ],
   "source": [
    "file_path = './example.txt'\n",
    "with open(file_path, 'r', encoding='utf-8') as file:\n",
    "    text = file.read().strip()\n",
    "\n",
    "# Encode the text into input IDs and attention masks\n",
    "inputs = tokenizer(text, padding='max_length', truncation=True, max_length=512, return_tensors='pt')\n",
    "input_ids = inputs['input_ids'].to(device)\n",
    "attention_mask = inputs['attention_mask'].to(device)\n",
    "\n",
    "with torch.no_grad():  # Disable gradient calculation for inference\n",
    "    prediction = model(input_ids=input_ids, attention_mask=attention_mask)\n",
    "    predicted_value = prediction.cpu().squeeze().item()  # Convert to a single number if output_dim=1\n",
    "\n",
    "\n",
    "print('Review content:')\n",
    "print(text)\n",
    "print('Predicted rating:')\n",
    "print(predicted_value)"
   ]
  },
  {
   "cell_type": "code",
   "execution_count": 10,
   "id": "cec9031e-a175-4998-ba36-65c53d0c7e7b",
   "metadata": {},
   "outputs": [
    {
     "name": "stdout",
     "output_type": "stream",
     "text": [
      "4.210131026804447 4.166666666666667\n"
     ]
    }
   ],
   "source": [
    "predicted = np.array([0.4467226266860962, 0.08403376489877701, 0.12596894800662994, 0.6068335175514221, 0.06321012228727341, 0.8133183717727661])\n",
    "true = np.array([5, 4, 2, 4, 3, 7])\n",
    "\n",
    "predicted = predicted * 9 + 1\n",
    "\n",
    "print(predicted.mean(), true.mean())"
   ]
  },
  {
   "cell_type": "code",
   "execution_count": 104,
   "id": "804df0dc-6071-4cb2-a991-9ee561615fc7",
   "metadata": {},
   "outputs": [
    {
     "name": "stderr",
     "output_type": "stream",
     "text": [
      "Evaluating Model: 100%|████████████████████████████████████████████████████████████████████████████████████████| 500/500 [00:06<00:00, 80.20it/s]\n"
     ]
    }
   ],
   "source": [
    "import torch\n",
    "import numpy as np\n",
    "from sklearn.metrics import mean_squared_error, r2_score\n",
    "import matplotlib.pyplot as plt\n",
    "from tqdm import tqdm\n",
    "\n",
    "# Ensure the model is in evaluation mode\n",
    "model.eval()\n",
    "\n",
    "# Assuming test_data and test_labels are your full test datasets\n",
    "num_samples = len(test_data)  # total number of samples in the test dataset\n",
    "indices = np.arange(num_samples)  # create an array of indices corresponding to the test_data\n",
    "\n",
    "# Shuffle the indices\n",
    "np.random.shuffle(indices)\n",
    "\n",
    "# Now take a subset of shuffled indices\n",
    "subset_indices = indices[:1000]\n",
    "\n",
    "# Create the subset using the shuffled indices\n",
    "test_dataset_subset = MovieReviewDataset(np.array(test_data)[subset_indices].tolist(),\n",
    "                                         np.array(test_labels)[subset_indices].tolist(),\n",
    "                                         tokenizer)\n",
    "test_subset_loader = DataLoader(test_dataset_subset, batch_size=2, collate_fn=collate_fn, shuffle=True)\n",
    "\n",
    "# Collect all predictions and actual labels\n",
    "predictions = []\n",
    "true_labels = []\n",
    "\n",
    "# Evaluate the model without gradient calculation\n",
    "with torch.no_grad():\n",
    "    for input_ids, attention_masks, targets in tqdm(test_subset_loader, desc='Evaluating Model', leave=True):\n",
    "        input_ids, attention_masks, targets = input_ids.to(device), attention_masks.to(device), targets.to(device)\n",
    "        outputs = model(input_ids, attention_masks).squeeze()\n",
    "        # Append batch predictions and labels to the lists\n",
    "        predictions.extend(outputs.cpu().numpy().tolist())\n",
    "        true_labels.extend(targets.cpu().numpy().tolist())"
   ]
  },
  {
   "cell_type": "code",
   "execution_count": 85,
   "id": "9528a69a-a674-4701-8ec4-10927c24d82e",
   "metadata": {},
   "outputs": [
    {
     "data": {
      "text/plain": [
       "25000"
      ]
     },
     "execution_count": 85,
     "metadata": {},
     "output_type": "execute_result"
    }
   ],
   "source": [
    "len(test_data)"
   ]
  },
  {
   "cell_type": "code",
   "execution_count": 105,
   "id": "7c2559e1-a5d0-43b8-bac3-7aa51ae378d2",
   "metadata": {},
   "outputs": [
    {
     "name": "stdout",
     "output_type": "stream",
     "text": [
      "Mean Squared Error on Test Set: 0.03173732937181722\n",
      "Mean Error on Test Set: 0.04560899379663169\n",
      "R^2 Score on Test Set: 0.7903112353830944\n"
     ]
    },
    {
     "data": {
      "image/png": "[encoded data removed]",
      "text/plain": [
       "<Figure size 1000x600 with 1 Axes>"
      ]
     },
     "metadata": {},
     "output_type": "display_data"
    }
   ],
   "source": [
    "# Compute error metrics\n",
    "mse = mean_squared_error(true_labels, predictions)\n",
    "mean_error = (np.asarray(true_labels) - np.asarray(predictions)).sum() / len(true_labels)\n",
    "r2 = r2_score(true_labels, predictions)\n",
    "\n",
    "# Print the error metrics\n",
    "print(\"Mean Squared Error on Test Set:\", mse)\n",
    "print(\"Mean Error on Test Set:\", mean_error)\n",
    "print(\"R^2 Score on Test Set:\", r2)\n",
    "\n",
    "# Plotting residuals\n",
    "residuals = np.array(true_labels) - np.array(predictions)\n",
    "plt.figure(figsize=(10, 6))\n",
    "plt.scatter(predictions, residuals, color='blue', alpha=0.1)\n",
    "plt.title('Residuals vs. Predicted Values')\n",
    "plt.xlabel('Predicted Values')\n",
    "plt.ylabel('Residuals')\n",
    "plt.axhline(y=0, color='red', linestyle='--')\n",
    "plt.grid(True)\n",
    "plt.show()"
   ]
  },
  {
   "cell_type": "code",
   "execution_count": null,
   "id": "ee8382b6-5e03-4944-b75d-d57e344f7e25",
   "metadata": {},
   "outputs": [],
   "source": []
  }
 ],
 "metadata": {
  "kernelspec": {
   "display_name": "Python 3 (ipykernel)",
   "language": "python",
   "name": "python3"
  },
  "language_info": {
   "codemirror_mode": {
    "name": "ipython",
    "version": 3
   },
   "file_extension": ".py",
   "mimetype": "text/x-python",
   "name": "python",
   "nbconvert_exporter": "python",
   "pygments_lexer": "ipython3",
   "version": "3.11.3"
  }
 },
 "nbformat": 4,
 "nbformat_minor": 5
}
