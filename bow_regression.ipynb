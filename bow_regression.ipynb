{
 "cells": [
  {
   "cell_type": "code",
   "execution_count": 1,
   "id": "38bc3d4d-9fe1-48bc-8484-3eb2094ccc1b",
   "metadata": {},
   "outputs": [],
   "source": [
    "import numpy as np\n",
    "import pandas as pd\n",
    "from sklearn.model_selection import train_test_split\n",
    "from sklearn.feature_extraction.text import CountVectorizer\n",
    "from sklearn.linear_model import LinearRegression\n",
    "from sklearn.metrics import mean_squared_error, mean_absolute_error\n",
    "import os\n",
    "import re"
   ]
  },
  {
   "cell_type": "code",
   "execution_count": 3,
   "id": "cdc16677-5885-4dcb-92f0-b62560f46b20",
   "metadata": {},
   "outputs": [],
   "source": [
    "# Directory paths\n",
    "train_dir = \"aclImdb_v1/aclImdb/train\"\n",
    "test_dir = \"aclImdb_v1/aclImdb/test\"\n",
    "\n",
    "# Read and preprocess the movie reviews\n",
    "def read_reviews(directory):\n",
    "    reviews = []\n",
    "    ratings = []\n",
    "    for label in [\"pos\", \"neg\"]:\n",
    "        label_dir = os.path.join(directory, label)\n",
    "        for filename in os.listdir(label_dir):\n",
    "            with open(os.path.join(label_dir, filename), \"r\") as file:\n",
    "                try:\n",
    "                    review = file.read()\n",
    "                except UnicodeDecodeError:\n",
    "                    with open(os.path.join(label_dir, filename), \"r\", encoding=\"latin-1\") as file:\n",
    "                        review = file.read()\n",
    "                rating = int(filename.split(\"_\")[1].split(\".\")[0])\n",
    "                rating = (rating - 1) / 9.0\n",
    "                reviews.append(review)\n",
    "                ratings.append(rating)\n",
    "    return reviews, ratings\n",
    "\n",
    "# Read training and testing data\n",
    "train_reviews, train_ratings = read_reviews(train_dir)\n",
    "test_reviews, test_ratings = read_reviews(test_dir)"
   ]
  },
  {
   "cell_type": "markdown",
   "id": "4b59f589",
   "metadata": {},
   "source": [
    "### Baseline Bag of Words Model"
   ]
  },
  {
   "cell_type": "code",
   "execution_count": 21,
   "id": "ecd17e75-c7f4-4091-9071-43ffe9cd3bce",
   "metadata": {},
   "outputs": [
    {
     "name": "stdout",
     "output_type": "stream",
     "text": [
      "Training finished\n"
     ]
    }
   ],
   "source": [
    "# Create bag of words representation\n",
    "vectorizer = CountVectorizer()\n",
    "train_features = vectorizer.fit_transform(train_reviews)\n",
    "test_features = vectorizer.transform(test_reviews)\n",
    "\n",
    "# Train the model\n",
    "model = LinearRegression()\n",
    "model.fit(train_features, train_ratings)\n",
    "\n",
    "print('Training finished')"
   ]
  },
  {
   "cell_type": "code",
   "execution_count": 22,
   "id": "818c2d08-c6eb-4a5e-a127-dcad1a59460d",
   "metadata": {},
   "outputs": [
    {
     "name": "stdout",
     "output_type": "stream",
     "text": [
      "Mean Squared Error: 0.16692690137626906\n",
      "Mean Absolute Error: 0.3655377777777778\n"
     ]
    }
   ],
   "source": [
    "# Make predictions on the testing set\n",
    "predictions = model.predict(test_features)\n",
    "predictions = np.clip(predictions, 0, 1)\n",
    "\n",
    "# Evaluate the model\n",
    "mse = mean_squared_error(test_ratings, predictions)\n",
    "mae = mean_absolute_error(test_ratings, predictions)\n",
    "\n",
    "print(\"Mean Squared Error:\", mse)\n",
    "print(\"Mean Absolute Error:\", msa)"
   ]
  },
  {
   "cell_type": "code",
   "execution_count": 23,
   "id": "3ce3d7ff-2fe3-48cd-b170-29f75d9506d0",
   "metadata": {},
   "outputs": [
    {
     "name": "stdout",
     "output_type": "stream",
     "text": [
      "Predicted Rating: 0.4307069015219318\n"
     ]
    }
   ],
   "source": [
    "# Function to predict the rating of a new review\n",
    "def predict_rating(review_text):\n",
    "    # Preprocess the review text\n",
    "    review_features = vectorizer.transform([review_text])\n",
    "    \n",
    "    # Make prediction\n",
    "    predicted_rating = model.predict(review_features)\n",
    "    \n",
    "    return predicted_rating[0]\n",
    "\n",
    "# Example usage\n",
    "new_review = \"This film powerfully demonstrates the struggle of two women in love in a culture so deeply entrenched in ritual and tradition. All this against a backdrop of an India which itself is struggling for freedom from these same values. This film is both political and personal and never too preachy or idealistic on either front. It is easy to see why 'Fire' has caused riots in India, but tragic nonetheless. A true film such as this one deserves to be seen by all people of the world, not just privileged westerners.\"\n",
    "predicted_rating = predict_rating(new_review)\n",
    "print(\"Predicted Rating:\", predicted_rating)"
   ]
  },
  {
   "cell_type": "markdown",
   "id": "dededdd2",
   "metadata": {},
   "source": [
    "### Bag of Words Model removing fill words"
   ]
  },
  {
   "cell_type": "code",
   "execution_count": 24,
   "id": "7d7d1560-525b-4757-88db-6a5d3a25645d",
   "metadata": {},
   "outputs": [],
   "source": [
    "# Combine fill words found during dataset analysis with default English stop words\n",
    "fill_words = ['the', 'and', 'of', 'to', 'is', 'br', 'it', 'in', 'this', 'that', 'was', 'as', \n",
    "              'for', 'with', 'movie', 'but', 'film', 'you', 'on', 'he', 'are', 'his', 'have',\n",
    "              'be', 'one', 'at', 'they', 'by', 'an', 'who', 'so', 'from', 'there', 'her', 'or', \n",
    "              'about', 'out', 'if', 'has', 'what', 'some', 'can', 'she', 'when', 'even', 'my', \n",
    "              'would', 'which', 'story', 'see', 'their', 'had', 'we', 'were', 'me', 'than', \n",
    "              'much', 'get', 'been', 'people', 'will', 'do', 'other', 'also', 'up', 'into', 'first',\n",
    "              'all', 'no', 'just', 'how', 'because', 'then']\n",
    "\n",
    "from sklearn.feature_extraction import text \n",
    "stop_words = text.ENGLISH_STOP_WORDS.union(fill_words_set)\n"
   ]
  },
  {
   "cell_type": "code",
   "execution_count": 25,
   "id": "3e6a4ebf",
   "metadata": {},
   "outputs": [
    {
     "name": "stdout",
     "output_type": "stream",
     "text": [
      "Training finished\n"
     ]
    }
   ],
   "source": [
    "# Create bag of words representation\n",
    "vectorizer = CountVectorizer(stop_words = stop_words)\n",
    "train_features = vectorizer.fit_transform(train_reviews)\n",
    "test_features = vectorizer.transform(test_reviews)\n",
    "\n",
    "# Train the model\n",
    "model = LinearRegression()\n",
    "model.fit(train_features, train_ratings)\n",
    "\n",
    "print('Training finished')"
   ]
  },
  {
   "cell_type": "code",
   "execution_count": 26,
   "id": "79c06cd2",
   "metadata": {},
   "outputs": [
    {
     "name": "stdout",
     "output_type": "stream",
     "text": [
      "Mean Squared Error: 0.18280456470212358\n",
      "Mean Absolute Error: 0.3655377777777778\n"
     ]
    }
   ],
   "source": [
    "# Make predictions on the test set and clip to [0, 1]\n",
    "predictions = model.predict(test_features)\n",
    "predictions = np.clip(predictions, 0, 1)\n",
    "\n",
    "# Evaluate the model\n",
    "mse = mean_squared_error(test_ratings, predictions)\n",
    "mae = mean_absolute_error(test_ratings, predictions)\n",
    "\n",
    "print(\"Mean Squared Error:\", mse)\n",
    "print(\"Mean Absolute Error:\", msa)"
   ]
  },
  {
   "cell_type": "code",
   "execution_count": 27,
   "id": "860faf1d",
   "metadata": {},
   "outputs": [
    {
     "name": "stdout",
     "output_type": "stream",
     "text": [
      "Predicted Rating: 0.24323627215242383\n"
     ]
    }
   ],
   "source": [
    "# Function to predict the rating of a new review\n",
    "def predict_rating(review_text):\n",
    "    # Preprocess the review text\n",
    "    review_features = vectorizer.transform([review_text])\n",
    "    \n",
    "    # Make prediction\n",
    "    predicted_rating = model.predict(review_features)\n",
    "    \n",
    "    return predicted_rating[0]\n",
    "\n",
    "# Example usage\n",
    "new_review = \"This film powerfully demonstrates the struggle of two women in love in a culture so deeply entrenched in ritual and tradition. All this against a backdrop of an India which itself is struggling for freedom from these same values. This film is both political and personal and never too preachy or idealistic on either front. It is easy to see why 'Fire' has caused riots in India, but tragic nonetheless. A true film such as this one deserves to be seen by all people of the world, not just privileged westerners.\"\n",
    "predicted_rating = predict_rating(new_review)\n",
    "print(\"Predicted Rating:\", predicted_rating)"
   ]
  },
  {
   "cell_type": "code",
   "execution_count": null,
   "id": "6d72a29f",
   "metadata": {},
   "outputs": [],
   "source": []
  }
 ],
 "metadata": {
  "kernelspec": {
   "display_name": "Python 3 (ipykernel)",
   "language": "python",
   "name": "python3"
  },
  "language_info": {
   "codemirror_mode": {
    "name": "ipython",
    "version": 3
   },
   "file_extension": ".py",
   "mimetype": "text/x-python",
   "name": "python",
   "nbconvert_exporter": "python",
   "pygments_lexer": "ipython3",
   "version": "3.9.13"
  }
 },
 "nbformat": 4,
 "nbformat_minor": 5
}
