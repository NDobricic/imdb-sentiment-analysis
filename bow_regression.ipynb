{
 "cells": [
  {
   "cell_type": "code",
   "execution_count": 1,
   "id": "38bc3d4d-9fe1-48bc-8484-3eb2094ccc1b",
   "metadata": {},
   "outputs": [],
   "source": [
    "import numpy as np\n",
    "import pandas as pd\n",
    "from sklearn.model_selection import train_test_split\n",
    "from sklearn.feature_extraction.text import CountVectorizer\n",
    "from sklearn.linear_model import LinearRegression\n",
    "from sklearn.metrics import mean_squared_error, mean_absolute_error\n",
    "import os\n",
    "import re"
   ]
  },
  {
   "cell_type": "code",
   "execution_count": 2,
   "id": "cdc16677-5885-4dcb-92f0-b62560f46b20",
   "metadata": {},
   "outputs": [],
   "source": [
    "# Directory paths\n",
    "train_dir = \"aclImdb/train\"\n",
    "test_dir = \"aclImdb/test\"\n",
    "\n",
    "# Read and preprocess the movie reviews\n",
    "def read_reviews(directory):\n",
    "    reviews = []\n",
    "    ratings = []\n",
    "    for label in [\"pos\", \"neg\"]:\n",
    "        label_dir = os.path.join(directory, label)\n",
    "        for filename in os.listdir(label_dir):\n",
    "            with open(os.path.join(label_dir, filename), \"r\") as file:\n",
    "                review = file.read()\n",
    "                rating = int(filename.split(\"_\")[1].split(\".\")[0])\n",
    "                rating = (rating - 1) / 9.0\n",
    "                reviews.append(review)\n",
    "                ratings.append(rating)\n",
    "    return reviews, ratings\n",
    "\n",
    "# Read training and testing data\n",
    "train_reviews, train_ratings = read_reviews(train_dir)\n",
    "test_reviews, test_ratings = read_reviews(test_dir)"
   ]
  },
  {
   "cell_type": "code",
   "execution_count": 3,
   "id": "ecd17e75-c7f4-4091-9071-43ffe9cd3bce",
   "metadata": {},
   "outputs": [
    {
     "name": "stdout",
     "output_type": "stream",
     "text": [
      "Training finished\n"
     ]
    }
   ],
   "source": [
    "# Create bag of words representation\n",
    "vectorizer = CountVectorizer()\n",
    "train_features = vectorizer.fit_transform(train_reviews)\n",
    "test_features = vectorizer.transform(test_reviews)\n",
    "\n",
    "# Train the model\n",
    "model = LinearRegression()\n",
    "model.fit(train_features, train_ratings)\n",
    "\n",
    "print('Training finished')"
   ]
  },
  {
   "cell_type": "code",
   "execution_count": 7,
   "id": "818c2d08-c6eb-4a5e-a127-dcad1a59460d",
   "metadata": {},
   "outputs": [
    {
     "name": "stdout",
     "output_type": "stream",
     "text": [
      "Mean Squared Error: 0.15044543209876546\n",
      "Mean Absolute Error: 0.36553777777777774\n"
     ]
    }
   ],
   "source": [
    "# Make predictions on the testing set\n",
    "predictions = model.predict(test_features)\n",
    "\n",
    "# Evaluate the model\n",
    "mse = mean_squared_error(test_ratings, np.ones_like(test_ratings) * 0.5)\n",
    "msa = mean_absolute_error(test_ratings, np.ones_like(test_ratings) * 0.5)\n",
    "\n",
    "print(\"Mean Squared Error:\", mse)\n",
    "print(\"Mean Absolute Error:\", msa)"
   ]
  },
  {
   "cell_type": "code",
   "execution_count": 5,
   "id": "3ce3d7ff-2fe3-48cd-b170-29f75d9506d0",
   "metadata": {},
   "outputs": [
    {
     "name": "stdout",
     "output_type": "stream",
     "text": [
      "Predicted Rating: 0.43882057512453565\n"
     ]
    }
   ],
   "source": [
    "# Function to predict the rating of a new review\n",
    "def predict_rating(review_text):\n",
    "    # Preprocess the review text\n",
    "    review_features = vectorizer.transform([review_text])\n",
    "    \n",
    "    # Make prediction\n",
    "    predicted_rating = model.predict(review_features)\n",
    "    \n",
    "    return predicted_rating[0]\n",
    "\n",
    "# Example usage\n",
    "new_review = \"This film powerfully demonstrates the struggle of two women in love in a culture so deeply entrenched in ritual and tradition. All this against a backdrop of an India which itself is struggling for freedom from these same values. This film is both political and personal and never too preachy or idealistic on either front. It is easy to see why 'Fire' has caused riots in India, but tragic nonetheless. A true film such as this one deserves to be seen by all people of the world, not just privileged westerners.\"\n",
    "predicted_rating = predict_rating(new_review)\n",
    "print(\"Predicted Rating:\", predicted_rating)"
   ]
  },
  {
   "cell_type": "code",
   "execution_count": null,
   "id": "7d7d1560-525b-4757-88db-6a5d3a25645d",
   "metadata": {},
   "outputs": [],
   "source": []
  }
 ],
 "metadata": {
  "kernelspec": {
   "display_name": "Python 3 (ipykernel)",
   "language": "python",
   "name": "python3"
  },
  "language_info": {
   "codemirror_mode": {
    "name": "ipython",
    "version": 3
   },
   "file_extension": ".py",
   "mimetype": "text/x-python",
   "name": "python",
   "nbconvert_exporter": "python",
   "pygments_lexer": "ipython3",
   "version": "3.11.3"
  }
 },
 "nbformat": 4,
 "nbformat_minor": 5
}
