{
 "cells": [
  {
   "cell_type": "code",
   "execution_count": 1,
   "id": "ec31a5ba-7e4e-4708-8fb8-fd7d5b261831",
   "metadata": {},
   "outputs": [],
   "source": [
    "import os\n",
    "import torch\n",
    "import torch.nn as nn\n",
    "import torch.optim as optim\n",
    "from torch.nn.utils.rnn import pad_sequence, pack_padded_sequence, pad_packed_sequence\n",
    "from torch.utils.data import Dataset, DataLoader\n",
    "from torchtext.data.utils import get_tokenizer\n",
    "from torchtext.vocab import build_vocab_from_iterator\n",
    "import matplotlib.pyplot as plt"
   ]
  },
  {
   "cell_type": "code",
   "execution_count": 2,
   "id": "3499e6c1-57a1-4471-a79b-04aac96f8d1e",
   "metadata": {},
   "outputs": [],
   "source": [
    "# Define the dataset class\n",
    "class MovieReviewDataset(Dataset):\n",
    "    def __init__(self, data, labels, tokenizer, vocab):\n",
    "        self.data = data\n",
    "        self.labels = labels\n",
    "        self.tokenizer = tokenizer\n",
    "        self.vocab = vocab\n",
    "\n",
    "    def __len__(self):\n",
    "        return len(self.data)\n",
    "\n",
    "    def __getitem__(self, index):\n",
    "        text = self.data[index]\n",
    "        label = self.labels[index]\n",
    "        tokens = self.tokenizer(text)\n",
    "        indices = [self.vocab[token] for token in tokens]\n",
    "        return indices, label"
   ]
  },
  {
   "cell_type": "code",
   "execution_count": 3,
   "id": "8cb971f8-cf79-4258-a7de-4d869d5b09e1",
   "metadata": {},
   "outputs": [],
   "source": [
    "class LSTMModel(nn.Module):\n",
    "    def __init__(self, vocab_size, embedding_dim, hidden_dim, output_dim, num_layers=2, dropout_rate=0.3):\n",
    "        super(LSTMModel, self).__init__()\n",
    "        self.embedding = nn.Embedding(vocab_size, embedding_dim)\n",
    "        self.lstm = nn.LSTM(embedding_dim, hidden_dim, num_layers, batch_first=True, dropout=dropout_rate)\n",
    "        self.fc = nn.Linear(hidden_dim, output_dim)\n",
    "        self.sigmoid = nn.Sigmoid()\n",
    "\n",
    "        # Initialize LSTM and fully connected layers with Xavier initialization\n",
    "        for name, param in self.lstm.named_parameters():\n",
    "            if 'weight' in name:\n",
    "                nn.init.xavier_normal_(param)\n",
    "        nn.init.xavier_normal_(self.fc.weight)\n",
    "\n",
    "    def forward(self, x, lengths):\n",
    "        embedded = self.embedding(x)\n",
    "        packed_embedded = pack_padded_sequence(embedded, lengths, batch_first=True, enforce_sorted=False)\n",
    "        packed_output, (hidden, _) = self.lstm(packed_embedded)\n",
    "        output, _ = pad_packed_sequence(packed_output, batch_first=True)\n",
    "        output = hidden[-1]  # Use the last hidden state from the last layer\n",
    "        output = self.fc(output)\n",
    "        # output = self.sigmoid(output)\n",
    "        return output"
   ]
  },
  {
   "cell_type": "code",
   "execution_count": 4,
   "id": "90eb40ac-f2a1-42c8-9c87-44b280cced74",
   "metadata": {},
   "outputs": [
    {
     "name": "stdout",
     "output_type": "stream",
     "text": [
      "Device:  cuda\n"
     ]
    }
   ],
   "source": [
    "# Set device\n",
    "device = torch.device('cuda' if torch.cuda.is_available() else 'cpu')\n",
    "print(\"Device: \", device)\n",
    "\n",
    "# Set hyperparameters\n",
    "embedding_dim = 50\n",
    "hidden_dim = 100\n",
    "num_layers = 2\n",
    "output_dim = 1\n",
    "batch_size = 64\n",
    "num_epochs = 1\n",
    "learning_rate = 0.001"
   ]
  },
  {
   "cell_type": "code",
   "execution_count": 5,
   "id": "c05bff9b-50de-498e-b8ba-969487a61f0e",
   "metadata": {},
   "outputs": [],
   "source": [
    "# Load and preprocess the dataset\n",
    "def load_dataset(root_dir):\n",
    "    data = []\n",
    "    labels = []\n",
    "    for label in ['pos', 'neg']:\n",
    "        label_dir = os.path.join(root_dir, label)\n",
    "        for filename in os.listdir(label_dir):\n",
    "            file_path = os.path.join(label_dir, filename)\n",
    "            with open(file_path, 'r', encoding='utf-8') as f:\n",
    "                text = f.read()\n",
    "                data.append(text)\n",
    "                rating = int(filename.split('_')[-1].split('.')[0])\n",
    "                normalized_rating = (rating - 1) / 9.0\n",
    "                labels.append(normalized_rating)\n",
    "    return data, labels\n",
    "\n",
    "train_dir = 'aclImdb/train'\n",
    "test_dir = 'aclImdb/test'\n",
    "tokenizer = get_tokenizer('basic_english')\n",
    "\n",
    "train_data, train_labels = load_dataset(train_dir)\n",
    "test_data, test_labels = load_dataset(test_dir)"
   ]
  },
  {
   "cell_type": "code",
   "execution_count": null,
   "id": "953ccfa9-8e93-477a-a9c1-590edd682485",
   "metadata": {},
   "outputs": [],
   "source": []
  },
  {
   "cell_type": "code",
   "execution_count": 6,
   "id": "403cade9-456d-440a-84be-949c67b89a08",
   "metadata": {},
   "outputs": [],
   "source": [
    "def collate_fn(batch):\n",
    "    texts, labels = zip(*batch)\n",
    "    lengths = [len(text) for text in texts]\n",
    "    padded_texts = pad_sequence([torch.tensor(text) for text in texts], batch_first=True)\n",
    "    return padded_texts, torch.tensor(lengths), torch.tensor(labels)\n",
    "    \n",
    "def yield_tokens(data):\n",
    "    for text in data:\n",
    "        yield tokenizer(text)\n",
    "\n",
    "vocab = build_vocab_from_iterator(yield_tokens(train_data), specials=['<unk>'])\n",
    "vocab.set_default_index(vocab['<unk>'])\n",
    "\n",
    "train_dataset = MovieReviewDataset(train_data, train_labels, tokenizer, vocab)\n",
    "test_dataset = MovieReviewDataset(test_data, test_labels, tokenizer, vocab)\n",
    "\n",
    "train_loader = DataLoader(train_dataset, batch_size=batch_size, shuffle=True, collate_fn=collate_fn)\n",
    "test_loader = DataLoader(test_dataset, batch_size=batch_size, collate_fn=collate_fn)"
   ]
  },
  {
   "cell_type": "code",
   "execution_count": 8,
   "id": "659a9b4b-b9ce-4d61-b79e-b6c0ac0ec1d8",
   "metadata": {},
   "outputs": [
    {
     "name": "stdout",
     "output_type": "stream",
     "text": [
      "Loaded checkpoint from epoch 284\n",
      "Epoch [285/285], Train Loss: 0.1408430256, Test Loss: 0.1427303507\n"
     ]
    }
   ],
   "source": [
    "# Initialize the model\n",
    "model = LSTMModel(len(vocab), embedding_dim, hidden_dim, output_dim, num_layers).to(device)\n",
    "\n",
    "# Define the loss function and optimizer\n",
    "criterion = nn.MSELoss()\n",
    "optimizer = optim.SGD(model.parameters(), lr=learning_rate)\n",
    "\n",
    "# Load saved state dictionaries if they exist\n",
    "checkpoint_path = 'model_checkpoint2.pt'\n",
    "\n",
    "if os.path.exists(checkpoint_path):\n",
    "    checkpoint = torch.load(checkpoint_path)\n",
    "    model.load_state_dict(checkpoint['model_state_dict'])\n",
    "    optimizer.load_state_dict(checkpoint['optimizer_state_dict'])\n",
    "    for param_group in optimizer.param_groups:\n",
    "        param_group['lr'] = learning_rate\n",
    "    start_epoch = checkpoint['epoch'] + 1\n",
    "    train_losses = checkpoint['train_losses']\n",
    "    test_losses = checkpoint['test_losses']\n",
    "    print(f\"Loaded checkpoint from epoch {start_epoch}\")\n",
    "else:\n",
    "    start_epoch = 0\n",
    "    train_losses = []\n",
    "    test_losses = []\n",
    "    \n",
    "# Training loop\n",
    "for epoch in range(start_epoch, num_epochs + start_epoch):\n",
    "    model.train()\n",
    "    train_loss = 0.0\n",
    "\n",
    "    for inputs, lengths, targets in train_loader:\n",
    "        inputs, targets = inputs.to(device), targets.to(device).float()\n",
    "        lengths = lengths.cpu()  # Move lengths to CPU\n",
    "\n",
    "        optimizer.zero_grad()\n",
    "        outputs = model(inputs, lengths).squeeze()\n",
    "        loss = criterion(outputs, targets)\n",
    "        loss.backward()\n",
    "        optimizer.step()\n",
    "\n",
    "        train_loss += loss.item() * inputs.size(0)\n",
    "\n",
    "    train_loss /= len(train_dataset)\n",
    "    train_losses.append(train_loss)\n",
    "\n",
    "    model.eval()\n",
    "    test_loss = 0.0\n",
    "\n",
    "    with torch.no_grad():\n",
    "        for inputs, lengths, targets in test_loader:\n",
    "            inputs, targets = inputs.to(device), targets.to(device).float()\n",
    "            lengths = lengths.cpu()  # Move lengths to CPU\n",
    "            outputs = model(inputs, lengths).squeeze()\n",
    "            loss = criterion(outputs, targets)\n",
    "            test_loss += loss.item() * inputs.size(0)\n",
    "\n",
    "    test_loss /= len(test_dataset)\n",
    "    test_losses.append(test_loss)\n",
    "\n",
    "    print(f\"Epoch [{epoch+1}/{num_epochs + start_epoch}], Train Loss: {train_loss:.10f}, Test Loss: {test_loss:.10f}\")\n",
    "\n",
    "    # Save checkpoint\n",
    "    torch.save({\n",
    "        'epoch': epoch,\n",
    "        'model_state_dict': model.state_dict(),\n",
    "        'optimizer_state_dict': optimizer.state_dict(),\n",
    "        'train_losses': train_losses,\n",
    "        'test_losses': test_losses\n",
    "    }, checkpoint_path)"
   ]
  },
  {
   "cell_type": "code",
   "execution_count": 9,
   "id": "c30b29d2-43c3-4ed2-9b04-a07f40a15be8",
   "metadata": {},
   "outputs": [
    {
     "data": {
      "image/png": "[encoded data removed]",
      "text/plain": [
       "<Figure size 1000x500 with 1 Axes>"
      ]
     },
     "metadata": {},
     "output_type": "display_data"
    }
   ],
   "source": [
    "# Plot the training and validation loss\n",
    "plt.figure(figsize=(10, 5))\n",
    "plt.plot(range(1, len(train_losses) + 1), train_losses, label='Training Loss')\n",
    "plt.plot(range(1, len(test_losses) + 1), test_losses, label='Validation Loss')\n",
    "plt.xlabel('Epoch')\n",
    "plt.ylabel('Loss')\n",
    "plt.title('Training and Validation Loss')\n",
    "plt.legend()\n",
    "plt.grid(True)\n",
    "plt.tight_layout()\n",
    "plt.show()"
   ]
  },
  {
   "cell_type": "code",
   "execution_count": null,
   "id": "a10d658c-9c1b-42ee-a72b-84f01139295f",
   "metadata": {},
   "outputs": [],
   "source": []
  }
 ],
 "metadata": {
  "kernelspec": {
   "display_name": "Python 3 (ipykernel)",
   "language": "python",
   "name": "python3"
  },
  "language_info": {
   "codemirror_mode": {
    "name": "ipython",
    "version": 3
   },
   "file_extension": ".py",
   "mimetype": "text/x-python",
   "name": "python",
   "nbconvert_exporter": "python",
   "pygments_lexer": "ipython3",
   "version": "3.11.3"
  }
 },
 "nbformat": 4,
 "nbformat_minor": 5
}
